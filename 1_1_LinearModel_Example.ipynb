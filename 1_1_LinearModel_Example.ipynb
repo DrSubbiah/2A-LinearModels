{
  "cells": [
    {
      "cell_type": "markdown",
      "metadata": {
        "id": "view-in-github",
        "colab_type": "text"
      },
      "source": [
        "<a href=\"https://colab.research.google.com/github/DrSubbiah/2A-LinearModels/blob/main/1_1_LinearModel_Example.ipynb\" target=\"_parent\"><img src=\"https://colab.research.google.com/assets/colab-badge.svg\" alt=\"Open In Colab\"/></a>"
      ]
    },
    {
      "cell_type": "markdown",
      "source": [
        "Let us consider **Credit** data set from **ISLR**, one of the packages in R and the same can be accessed from [Here](https://github.com/DrSubbiah/LinearModels/blob/main/Credit.csv)\n",
        "\n",
        "This data set has 400 observations (cases) and 12 variables (features).\n",
        "\n",
        "First, let us consider three numeric predictors\n",
        "\n",
        "- *Age, Income, Limit*\n",
        "\n",
        "and the response, *Balance*\n",
        "\n",
        "Underlying model is fitted using sklearn in python"
      ],
      "metadata": {
        "id": "cUfL2Y57Il7h"
      },
      "id": "cUfL2Y57Il7h"
    },
    {
      "cell_type": "code",
      "execution_count": null,
      "id": "c563f343",
      "metadata": {
        "id": "c563f343"
      },
      "outputs": [],
      "source": [
        "import pandas as pd\n",
        "import numpy as np\n",
        "import matplotlib.pyplot as plt\n",
        "\n",
        "from sklearn import linear_model\n",
        "from sklearn.metrics import mean_squared_error\n",
        "from sklearn.linear_model import LinearRegression\n",
        "from sklearn.preprocessing import OneHotEncoder"
      ]
    },
    {
      "cell_type": "code",
      "source": [
        "url = 'https://raw.githubusercontent.com/DrSubbiah/LinearModels/main/Credit.csv'\n",
        "cr_da = pd.read_csv(url)"
      ],
      "metadata": {
        "id": "PCwUPHq_yfD6"
      },
      "id": "PCwUPHq_yfD6",
      "execution_count": null,
      "outputs": []
    },
    {
      "cell_type": "code",
      "source": [
        "cr_da.head()"
      ],
      "metadata": {
        "id": "1_VGLESMKKWu"
      },
      "id": "1_VGLESMKKWu",
      "execution_count": null,
      "outputs": []
    },
    {
      "cell_type": "code",
      "execution_count": null,
      "id": "745922cf",
      "metadata": {
        "scrolled": true,
        "id": "745922cf"
      },
      "outputs": [],
      "source": [
        "# Scatter PLot\n",
        "fig, (ax1, ax2, ax3) = plt.subplots(1, 3)\n",
        "fig.suptitle('Relation between Three Numeric Predictors and the Response')\n",
        "ax1.scatter(cr_da['Age'], cr_da['Balance'],c=\"orange\")\n",
        "ax2.scatter(cr_da['Income'], cr_da['Balance'],c='blue')\n",
        "ax3.scatter(cr_da['Limit'], cr_da['Balance'],c='green')\n",
        "\n",
        "\n",
        "for ax in fig.get_axes():\n",
        "    ax.label_outer()\n"
      ]
    },
    {
      "cell_type": "markdown",
      "source": [
        "## <font color=\"maroon\"> Interpretation of Weights $\\beta$\n",
        "\n",
        "### <font color=\"blue\"> Numeric predictors\n",
        "\n",
        "If the fitted LM has a numeric predictor $X$, then the corresponding weight $\\beta$ is interpreted as the **change ** in the average value of the response variable $Y$ when the predictor $X$ is increased by one unit, provided other predictors are kept in a same value (constant); constant may be zero or any appropriate value\n",
        "\n",
        "### <font color=\"blue\">Categorical predictors\n",
        "\n",
        "Following are the steps to interpret factor predictors\n",
        "\n",
        "1. One of the levels will be considered Reference or Base level\n",
        "\n",
        "1. Weights $(\\beta)$ are the **changes in the mean** response $Y$ when the levels of factor $X$ are compared with base level\n",
        "\n",
        "1. Other predictors are kept constant; factor predictors, are kept in the **same level**\n",
        "\n",
        "### <font color=\"blue\">Intercept or Constant\n",
        "\n",
        "Constant in the model provides the average response when all the predictors are kept at the same level   \n"
      ],
      "metadata": {
        "id": "Yx5JaPo4SYWO"
      },
      "id": "Yx5JaPo4SYWO"
    },
    {
      "cell_type": "code",
      "execution_count": null,
      "id": "3192a96d",
      "metadata": {
        "id": "3192a96d"
      },
      "outputs": [],
      "source": [
        "lm_mod = linear_model.LinearRegression()"
      ]
    },
    {
      "cell_type": "code",
      "source": [
        "#Three Numeric Predictors\n",
        "x= cr_da[[\"Age\",\"Income\",\"Limit\"]]\n",
        "y= cr_da[\"Balance\"]\n",
        "\n",
        "fit1=lm_mod.fit(x,y)"
      ],
      "metadata": {
        "id": "hurd4jpvelbk"
      },
      "id": "hurd4jpvelbk",
      "execution_count": null,
      "outputs": []
    },
    {
      "cell_type": "code",
      "source": [
        "op=np.append(fit1.intercept_,fit1.coef_)"
      ],
      "metadata": {
        "id": "iIcPGzyLMZ0A"
      },
      "id": "iIcPGzyLMZ0A",
      "execution_count": null,
      "outputs": []
    },
    {
      "cell_type": "code",
      "source": [
        "op=pd.DataFrame(op)\n",
        "op.columns =['Estimate']\n",
        "op.index = ['Constant', 'Age', 'Income', 'Limit']\n",
        "op"
      ],
      "metadata": {
        "id": "wdcG08IRPPtD"
      },
      "id": "wdcG08IRPPtD",
      "execution_count": null,
      "outputs": []
    },
    {
      "cell_type": "markdown",
      "source": [
        "## <font color=\"maroon\"> Treating Categorical Predicators\n",
        "\n",
        "\n",
        "\n",
        "\n",
        "We fit the model\n",
        "\n",
        "1.   First let us do One-hot encoding - convert categorical variables into a numerical format\n",
        "1.   Then we drop One Category (usually, the first or last) as a reference category\n",
        "1. We fit the model\n",
        "\n",
        "\n",
        "\n"
      ],
      "metadata": {
        "id": "4DWXjVP_0qWS"
      },
      "id": "4DWXjVP_0qWS"
    },
    {
      "cell_type": "code",
      "source": [
        "# One-hot encode the categorical variable\n",
        "encoder = OneHotEncoder(drop='first', sparse_output=False)  # Drop the first category\n",
        "cr_da_encoded = encoder.fit_transform(cr_da[['Ethnicity']])\n",
        "\n",
        "# Fit the linear regression model\n",
        "model = LinearRegression()\n",
        "model.fit(cr_da_encoded, cr_da['Balance'])\n",
        "\n",
        "# Get the coefficients\n",
        "coefficients = model.coef_\n",
        "intercept = model.intercept_\n",
        "\n",
        "# Retrieve feature names\n",
        "feature_names = encoder.get_feature_names_out(input_features=['Ethnicity'])\n",
        "\n",
        "# Create a DataFrame to display coefficients with feature names\n",
        "coef_df = pd.DataFrame({'Feature': feature_names, 'Coefficient': coefficients})\n",
        "coef_df.loc[len(coef_df)] = ['Intercept', intercept]\n",
        "\n",
        "print(coef_df)\n"
      ],
      "metadata": {
        "id": "N3BYRfDx1vtO"
      },
      "id": "N3BYRfDx1vtO",
      "execution_count": null,
      "outputs": []
    },
    {
      "cell_type": "markdown",
      "source": [
        "## <font color=\"maroon\"> More than one Categorical Variable"
      ],
      "metadata": {
        "id": "xK_1GWV3AUCG"
      },
      "id": "xK_1GWV3AUCG"
    },
    {
      "cell_type": "code",
      "source": [
        "# One-hot encode the categorical variable\n",
        "encoder = OneHotEncoder(drop='first', sparse_output=False)  # Drop the first category\n",
        "cr_da_encoded = encoder.fit_transform(cr_da[['Ethnicity','Married']])\n",
        "\n",
        "# Fit the linear regression model\n",
        "model = LinearRegression()\n",
        "model.fit(cr_da_encoded, cr_da['Balance'])\n",
        "\n",
        "# Get the coefficients\n",
        "coefficients = model.coef_\n",
        "intercept = model.intercept_\n",
        "\n",
        "# Retrieve feature names\n",
        "feature_names = encoder.get_feature_names_out(input_features=['Ethnicity',\"Married\"])\n",
        "\n",
        "# Create a DataFrame to display coefficients with feature names\n",
        "coef_df = pd.DataFrame({'Feature': feature_names, 'Coefficient': coefficients})\n",
        "coef_df.loc[len(coef_df)] = ['Intercept', intercept]\n",
        "\n",
        "print(coef_df)\n"
      ],
      "metadata": {
        "id": "K5dmkjkJ_joP"
      },
      "id": "K5dmkjkJ_joP",
      "execution_count": null,
      "outputs": []
    }
  ],
  "metadata": {
    "kernelspec": {
      "display_name": "Python 3 (ipykernel)",
      "language": "python",
      "name": "python3"
    },
    "language_info": {
      "codemirror_mode": {
        "name": "ipython",
        "version": 3
      },
      "file_extension": ".py",
      "mimetype": "text/x-python",
      "name": "python",
      "nbconvert_exporter": "python",
      "pygments_lexer": "ipython3",
      "version": "3.9.12"
    },
    "colab": {
      "provenance": [],
      "include_colab_link": true
    }
  },
  "nbformat": 4,
  "nbformat_minor": 5
}