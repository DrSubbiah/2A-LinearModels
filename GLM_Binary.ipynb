{
  "nbformat": 4,
  "nbformat_minor": 0,
  "metadata": {
    "colab": {
      "provenance": [],
      "include_colab_link": true
    },
    "kernelspec": {
      "name": "python3",
      "display_name": "Python 3"
    },
    "language_info": {
      "name": "python"
    }
  },
  "cells": [
    {
      "cell_type": "markdown",
      "metadata": {
        "id": "view-in-github",
        "colab_type": "text"
      },
      "source": [
        "<a href=\"https://colab.research.google.com/github/DrSubbiah/2A-LinearModels/blob/main/GLM_Binary.ipynb\" target=\"_parent\"><img src=\"https://colab.research.google.com/assets/colab-badge.svg\" alt=\"Open In Colab\"/></a>"
      ]
    },
    {
      "cell_type": "markdown",
      "metadata": {
        "id": "ixH-Dnr9TSsv"
      },
      "source": [
        "**Probit function**\n",
        "\n",
        "\n",
        "When we consider a probability quantity (p) such as success of an event, we know that it is $0<p<1$. However, for linear model we can transform this space to $(-\\infty,\\infty)$.\n",
        "\n",
        "Especially with normal error, we can use probit transform using cummulative distribution (CD) of standard normal distribution. That is $0<p<1$ becomes $-\\infty<\\Phi^{-1} (p)<\\infty$\n",
        "\n",
        "Hence, the model for binary logistic regression model becomes\n",
        "\n",
        "$$\\Phi^{-1} (p)=\\beta_0 + \\beta_1x_1+\\beta_2x_2\\cdot\\cdot\\cdot\\beta_kx_k$$\n",
        "\n",
        "It may be worth to recall from logit (p)\n",
        "$$\\mathrm{logit}(p)= \\mathrm{log}\\frac{p}{1-p} = \\beta_0 + \\beta_1x_1+\\beta_2x_2\\cdot\\cdot\\cdot\\beta_kx_k$$\n",
        "\n"
      ]
    }
  ]
}